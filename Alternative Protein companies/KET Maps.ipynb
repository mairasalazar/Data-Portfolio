{
 "cells": [
  {
   "cell_type": "code",
   "execution_count": 2,
   "id": "2de0ea05",
   "metadata": {},
   "outputs": [],
   "source": [
    "from bs4 import BeautifulSoup\n",
    "import pandas as pd\n",
    "import requests"
   ]
  },
  {
   "cell_type": "code",
   "execution_count": 3,
   "id": "0e698898",
   "metadata": {},
   "outputs": [
    {
     "name": "stdout",
     "output_type": "stream",
     "text": [
      "Requirement already satisfied: requests in c:\\users\\mpssa\\documents\\data portfolio\\alternative protein companies\\.env\\lib\\site-packages (2.28.1)\n",
      "Requirement already satisfied: idna<4,>=2.5 in c:\\users\\mpssa\\documents\\data portfolio\\alternative protein companies\\.env\\lib\\site-packages (from requests) (3.3)\n",
      "Requirement already satisfied: certifi>=2017.4.17 in c:\\users\\mpssa\\documents\\data portfolio\\alternative protein companies\\.env\\lib\\site-packages (from requests) (2022.6.15)\n",
      "Requirement already satisfied: charset-normalizer<3,>=2 in c:\\users\\mpssa\\documents\\data portfolio\\alternative protein companies\\.env\\lib\\site-packages (from requests) (2.1.0)\n",
      "Requirement already satisfied: urllib3<1.27,>=1.21.1 in c:\\users\\mpssa\\documents\\data portfolio\\alternative protein companies\\.env\\lib\\site-packages (from requests) (1.26.11)\n"
     ]
    },
    {
     "name": "stderr",
     "output_type": "stream",
     "text": [
      "WARNING: You are using pip version 22.0.4; however, version 22.2.1 is available.\n",
      "You should consider upgrading via the 'C:\\Users\\mpssa\\Documents\\Data Portfolio\\Alternative Protein companies\\.env\\Scripts\\python.exe -m pip install --upgrade pip' command.\n"
     ]
    }
   ],
   "source": [
    "!python -m pip install requests"
   ]
  },
  {
   "cell_type": "code",
   "execution_count": 39,
   "id": "db89e734",
   "metadata": {},
   "outputs": [],
   "source": [
    "pages = {'protein':'https://d39fsq0hjqsz1f.cloudfront.net',\n",
    " 'milk':'https://drqh70c5kkze.cloudfront.net',\n",
    " 'fungi':'https://dvkzh0qiuwd9j.cloudfront.net', \n",
    " \"algae\":\"https://d22f7pi4t4zvof.cloudfront.net\"\n",
    "}"
   ]
  },
  {
   "cell_type": "code",
   "execution_count": 46,
   "id": "e3c49007",
   "metadata": {},
   "outputs": [],
   "source": [
    "def create_dataframes(pages):\n",
    "    dfs = []\n",
    "    for key in pages:\n",
    "        URL = f\"{pages[key]}\"\n",
    "        page = requests.get(URL)\n",
    "\n",
    "        soup = BeautifulSoup(page.content, \"html.parser\")\n",
    "\n",
    "        data = []\n",
    "        src = []\n",
    "        data_founded = []\n",
    "        data_founder = []\n",
    "        data_hq = []\n",
    "        data_website = []\n",
    "\n",
    "        i = 0\n",
    "        for n in soup.find_all('img'):\n",
    "            src.append(n.get('src'))\n",
    "            data_founded.append(n.get('data-founded'))\n",
    "            data_founder.append(n.get('data-founder'))\n",
    "            data_hq.append(n.get('data-hq'))\n",
    "            data_website.append(n.get('data-website'))\n",
    "\n",
    "        df = pd.DataFrame(\n",
    "            list(zip(src, data_founded, data_founder, data_hq, data_website)), \n",
    "            columns = ['src', 'data_founded', 'data_founder', 'data_hq', 'data_website'])\n",
    "        dfs.append(df)\n",
    "    return dfs\n"
   ]
  },
  {
   "cell_type": "code",
   "execution_count": 47,
   "id": "9b920e51",
   "metadata": {},
   "outputs": [],
   "source": [
    "dfs = create_dataframes(pages)\n"
   ]
  },
  {
   "cell_type": "code",
   "execution_count": 57,
   "id": "da253be1",
   "metadata": {},
   "outputs": [],
   "source": [
    "protein = dfs[0].drop([623, 624])\n",
    "milk = dfs[1].drop([389, 390])\n",
    "fungi = dfs[2].drop([120, 121])\n",
    "algae = dfs[3].drop([114, 115])"
   ]
  },
  {
   "cell_type": "code",
   "execution_count": 59,
   "id": "284933ec",
   "metadata": {},
   "outputs": [],
   "source": [
    "protein.to_csv('protein.csv', index=False)\n",
    "milk.to_csv('milk.csv', index=False)\n",
    "fungi.to_csv('fungi.csv', index=False)\n",
    "algae.to_csv('algae.csv', index=False)"
   ]
  }
 ],
 "metadata": {
  "kernelspec": {
   "display_name": "Python 3 (ipykernel)",
   "language": "python",
   "name": "python3"
  },
  "language_info": {
   "codemirror_mode": {
    "name": "ipython",
    "version": 3
   },
   "file_extension": ".py",
   "mimetype": "text/x-python",
   "name": "python",
   "nbconvert_exporter": "python",
   "pygments_lexer": "ipython3",
   "version": "3.10.4"
  }
 },
 "nbformat": 4,
 "nbformat_minor": 5
}
