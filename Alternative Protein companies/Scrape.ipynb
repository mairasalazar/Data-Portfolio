{
 "cells": [
  {
   "cell_type": "code",
   "execution_count": 34,
   "metadata": {},
   "outputs": [],
   "source": [
    "from selenium import webdriver\n",
    "from time import sleep"
   ]
  },
  {
   "cell_type": "code",
   "execution_count": 42,
   "metadata": {},
   "outputs": [
    {
     "name": "stderr",
     "output_type": "stream",
     "text": [
      "C:\\Users\\mpssa\\AppData\\Local\\Temp\\ipykernel_4828\\1052049497.py:4: DeprecationWarning: executable_path has been deprecated, please pass in a Service object\n",
      "  driver = webdriver.Chrome(path)\n"
     ]
    },
    {
     "ename": "NoSuchElementException",
     "evalue": "Message: no such element: Unable to locate element: {\"method\":\"xpath\",\"selector\":\"//div[@class=\"ct-section-inner-wrap\"]/h1\"}\n  (Session info: chrome=104.0.5112.79)\nStacktrace:\nBacktrace:\n\tOrdinal0 [0x003878B3+2193587]\n\tOrdinal0 [0x00320681+1771137]\n\tOrdinal0 [0x002341A8+803240]\n\tOrdinal0 [0x002624A0+992416]\n\tOrdinal0 [0x0026273B+993083]\n\tOrdinal0 [0x0028F7C2+1177538]\n\tOrdinal0 [0x0027D7F4+1103860]\n\tOrdinal0 [0x0028DAE2+1170146]\n\tOrdinal0 [0x0027D5C6+1103302]\n\tOrdinal0 [0x002577E0+948192]\n\tOrdinal0 [0x002586E6+952038]\n\tGetHandleVerifier [0x00630CB2+2738370]\n\tGetHandleVerifier [0x006221B8+2678216]\n\tGetHandleVerifier [0x004117AA+512954]\n\tGetHandleVerifier [0x00410856+509030]\n\tOrdinal0 [0x0032743B+1799227]\n\tOrdinal0 [0x0032BB68+1817448]\n\tOrdinal0 [0x0032BC55+1817685]\n\tOrdinal0 [0x00335230+1856048]\n\tBaseThreadInitThunk [0x776BFA29+25]\n\tRtlGetAppContainerNamedObjectPath [0x779A7A9E+286]\n\tRtlGetAppContainerNamedObjectPath [0x779A7A6E+238]\n",
     "output_type": "error",
     "traceback": [
      "\u001b[1;31m---------------------------------------------------------------------------\u001b[0m",
      "\u001b[1;31mNoSuchElementException\u001b[0m                    Traceback (most recent call last)",
      "\u001b[1;32mc:\\Users\\mpssa\\Documents\\Data Portfolio\\Alternative Protein companies\\Scrape.ipynb Célula: 2\u001b[0m in \u001b[0;36m<cell line: 11>\u001b[1;34m()\u001b[0m\n\u001b[0;32m     <a href='vscode-notebook-cell:/c%3A/Users/mpssa/Documents/Data%20Portfolio/Alternative%20Protein%20companies/Scrape.ipynb#ch0000001?line=11'>12</a>\u001b[0m driver\u001b[39m.\u001b[39mget(company)\n\u001b[0;32m     <a href='vscode-notebook-cell:/c%3A/Users/mpssa/Documents/Data%20Portfolio/Alternative%20Protein%20companies/Scrape.ipynb#ch0000001?line=12'>13</a>\u001b[0m \u001b[39m#sleep(1)\u001b[39;00m\n\u001b[1;32m---> <a href='vscode-notebook-cell:/c%3A/Users/mpssa/Documents/Data%20Portfolio/Alternative%20Protein%20companies/Scrape.ipynb#ch0000001?line=13'>14</a>\u001b[0m name \u001b[39m=\u001b[39m driver\u001b[39m.\u001b[39;49mfind_element(\u001b[39m'\u001b[39;49m\u001b[39mxpath\u001b[39;49m\u001b[39m'\u001b[39;49m, \u001b[39m'\u001b[39;49m\u001b[39m//div[@class=\u001b[39;49m\u001b[39m\"\u001b[39;49m\u001b[39mct-section-inner-wrap\u001b[39;49m\u001b[39m\"\u001b[39;49m\u001b[39m]/h1\u001b[39;49m\u001b[39m'\u001b[39;49m)\u001b[39m.\u001b[39mtext\n\u001b[0;32m     <a href='vscode-notebook-cell:/c%3A/Users/mpssa/Documents/Data%20Portfolio/Alternative%20Protein%20companies/Scrape.ipynb#ch0000001?line=14'>15</a>\u001b[0m summary \u001b[39m=\u001b[39m driver\u001b[39m.\u001b[39mfind_element(\u001b[39m'\u001b[39m\u001b[39mxpath\u001b[39m\u001b[39m'\u001b[39m, \u001b[39m'\u001b[39m\u001b[39m//div[@class=\u001b[39m\u001b[39m\"\u001b[39m\u001b[39mct-div-block space-bottom-6x\u001b[39m\u001b[39m\"\u001b[39m\u001b[39m]/div/div/span\u001b[39m\u001b[39m'\u001b[39m)\u001b[39m.\u001b[39mtext\n\u001b[0;32m     <a href='vscode-notebook-cell:/c%3A/Users/mpssa/Documents/Data%20Portfolio/Alternative%20Protein%20companies/Scrape.ipynb#ch0000001?line=15'>16</a>\u001b[0m link \u001b[39m=\u001b[39m driver\u001b[39m.\u001b[39mfind_element(\u001b[39m'\u001b[39m\u001b[39mxpath\u001b[39m\u001b[39m'\u001b[39m, \u001b[39m'\u001b[39m\u001b[39m//div[@class=\u001b[39m\u001b[39m\"\u001b[39m\u001b[39mct-div-block small-text\u001b[39m\u001b[39m\"\u001b[39m\u001b[39m]/a\u001b[39m\u001b[39m'\u001b[39m)\u001b[39m.\u001b[39mtext\n",
      "File \u001b[1;32mc:\\Users\\mpssa\\Documents\\Data Portfolio\\Alternative Protein companies\\.env\\lib\\site-packages\\selenium\\webdriver\\remote\\webdriver.py:857\u001b[0m, in \u001b[0;36mWebDriver.find_element\u001b[1;34m(self, by, value)\u001b[0m\n\u001b[0;32m    854\u001b[0m     by \u001b[39m=\u001b[39m By\u001b[39m.\u001b[39mCSS_SELECTOR\n\u001b[0;32m    855\u001b[0m     value \u001b[39m=\u001b[39m \u001b[39m'\u001b[39m\u001b[39m[name=\u001b[39m\u001b[39m\"\u001b[39m\u001b[39m%s\u001b[39;00m\u001b[39m\"\u001b[39m\u001b[39m]\u001b[39m\u001b[39m'\u001b[39m \u001b[39m%\u001b[39m value\n\u001b[1;32m--> 857\u001b[0m \u001b[39mreturn\u001b[39;00m \u001b[39mself\u001b[39;49m\u001b[39m.\u001b[39;49mexecute(Command\u001b[39m.\u001b[39;49mFIND_ELEMENT, {\n\u001b[0;32m    858\u001b[0m     \u001b[39m'\u001b[39;49m\u001b[39musing\u001b[39;49m\u001b[39m'\u001b[39;49m: by,\n\u001b[0;32m    859\u001b[0m     \u001b[39m'\u001b[39;49m\u001b[39mvalue\u001b[39;49m\u001b[39m'\u001b[39;49m: value})[\u001b[39m'\u001b[39m\u001b[39mvalue\u001b[39m\u001b[39m'\u001b[39m]\n",
      "File \u001b[1;32mc:\\Users\\mpssa\\Documents\\Data Portfolio\\Alternative Protein companies\\.env\\lib\\site-packages\\selenium\\webdriver\\remote\\webdriver.py:435\u001b[0m, in \u001b[0;36mWebDriver.execute\u001b[1;34m(self, driver_command, params)\u001b[0m\n\u001b[0;32m    433\u001b[0m response \u001b[39m=\u001b[39m \u001b[39mself\u001b[39m\u001b[39m.\u001b[39mcommand_executor\u001b[39m.\u001b[39mexecute(driver_command, params)\n\u001b[0;32m    434\u001b[0m \u001b[39mif\u001b[39;00m response:\n\u001b[1;32m--> 435\u001b[0m     \u001b[39mself\u001b[39;49m\u001b[39m.\u001b[39;49merror_handler\u001b[39m.\u001b[39;49mcheck_response(response)\n\u001b[0;32m    436\u001b[0m     response[\u001b[39m'\u001b[39m\u001b[39mvalue\u001b[39m\u001b[39m'\u001b[39m] \u001b[39m=\u001b[39m \u001b[39mself\u001b[39m\u001b[39m.\u001b[39m_unwrap_value(\n\u001b[0;32m    437\u001b[0m         response\u001b[39m.\u001b[39mget(\u001b[39m'\u001b[39m\u001b[39mvalue\u001b[39m\u001b[39m'\u001b[39m, \u001b[39mNone\u001b[39;00m))\n\u001b[0;32m    438\u001b[0m     \u001b[39mreturn\u001b[39;00m response\n",
      "File \u001b[1;32mc:\\Users\\mpssa\\Documents\\Data Portfolio\\Alternative Protein companies\\.env\\lib\\site-packages\\selenium\\webdriver\\remote\\errorhandler.py:247\u001b[0m, in \u001b[0;36mErrorHandler.check_response\u001b[1;34m(self, response)\u001b[0m\n\u001b[0;32m    245\u001b[0m         alert_text \u001b[39m=\u001b[39m value[\u001b[39m'\u001b[39m\u001b[39malert\u001b[39m\u001b[39m'\u001b[39m]\u001b[39m.\u001b[39mget(\u001b[39m'\u001b[39m\u001b[39mtext\u001b[39m\u001b[39m'\u001b[39m)\n\u001b[0;32m    246\u001b[0m     \u001b[39mraise\u001b[39;00m exception_class(message, screen, stacktrace, alert_text)  \u001b[39m# type: ignore[call-arg]  # mypy is not smart enough here\u001b[39;00m\n\u001b[1;32m--> 247\u001b[0m \u001b[39mraise\u001b[39;00m exception_class(message, screen, stacktrace)\n",
      "\u001b[1;31mNoSuchElementException\u001b[0m: Message: no such element: Unable to locate element: {\"method\":\"xpath\",\"selector\":\"//div[@class=\"ct-section-inner-wrap\"]/h1\"}\n  (Session info: chrome=104.0.5112.79)\nStacktrace:\nBacktrace:\n\tOrdinal0 [0x003878B3+2193587]\n\tOrdinal0 [0x00320681+1771137]\n\tOrdinal0 [0x002341A8+803240]\n\tOrdinal0 [0x002624A0+992416]\n\tOrdinal0 [0x0026273B+993083]\n\tOrdinal0 [0x0028F7C2+1177538]\n\tOrdinal0 [0x0027D7F4+1103860]\n\tOrdinal0 [0x0028DAE2+1170146]\n\tOrdinal0 [0x0027D5C6+1103302]\n\tOrdinal0 [0x002577E0+948192]\n\tOrdinal0 [0x002586E6+952038]\n\tGetHandleVerifier [0x00630CB2+2738370]\n\tGetHandleVerifier [0x006221B8+2678216]\n\tGetHandleVerifier [0x004117AA+512954]\n\tGetHandleVerifier [0x00410856+509030]\n\tOrdinal0 [0x0032743B+1799227]\n\tOrdinal0 [0x0032BB68+1817448]\n\tOrdinal0 [0x0032BC55+1817685]\n\tOrdinal0 [0x00335230+1856048]\n\tBaseThreadInitThunk [0x776BFA29+25]\n\tRtlGetAppContainerNamedObjectPath [0x779A7A9E+286]\n\tRtlGetAppContainerNamedObjectPath [0x779A7A6E+238]\n"
     ]
    }
   ],
   "source": [
    "'''# for page 1:\n",
    "website = 'https://proteindirectory.com/alt-protein-database/'\n",
    "path = '/Users/mpssa/Documents/Data Portfolio/Alternative Protein companies/chromedriver.exe'\n",
    "driver = webdriver.Chrome(path)\n",
    "driver.get(website)\n",
    "\n",
    "all_companies = driver.find_elements('xpath', '//a[@class=\"ct-link\"]')\n",
    "company_links = [each_company.get_attribute(\"href\") for each_company in all_companies]\n",
    "\n",
    "companies = []\n",
    "for company in company_links:\n",
    "    driver.get(company)\n",
    "    #sleep(1)\n",
    "    name = driver.find_element('xpath', '//div[@class=\"ct-section-inner-wrap\"]/h1').text\n",
    "    summary = driver.find_element('xpath', '//div[@class=\"ct-div-block space-bottom-6x\"]/div/div/span').text\n",
    "    link = driver.find_element('xpath', '//div[@class=\"ct-div-block small-text\"]/a').text\n",
    "    information = [name, summary, link]\n",
    "\n",
    "# Improve by finding dinamically the range and getting all span\n",
    "# Create dictionaty: \n",
    "\"\"\"\n",
    "information = {'name': name,\n",
    "                'summary': summary,\n",
    "                'link': link}\n",
    "total = len(driver.find_elements('xpath', '//div[contains(@class, \"ct-text-block text-muted category-label\")]'))\n",
    "for i in total:\n",
    "    key = driver.find_element('xpath', f'//div[@class=\"ct-text-block text-muted category-label\"]/div[{i}]/span').text\n",
    "    value = driver.find_element('xpath', f'//div[contains(@class, \"ct-text-block text-align-right\")][{i}]').text\n",
    "    if key != 'Website':\n",
    "        information.append(info)\n",
    "\n",
    "\n",
    "\"\"\"\n",
    "\n",
    "    for i in [2, 4, 6, 9, 11, 13, 15]:\n",
    "        try:\n",
    "            info = driver.find_element('xpath', f'//div[@class=\"ct-div-block small-text\"]/div[{i}]/span').text\n",
    "        except:\n",
    "            info = ''\n",
    "        information.append(info)\n",
    "    companies.append(information)'''"
   ]
  },
  {
   "cell_type": "code",
   "execution_count": 53,
   "metadata": {},
   "outputs": [
    {
     "name": "stderr",
     "output_type": "stream",
     "text": [
      "C:\\Users\\mpssa\\AppData\\Local\\Temp\\ipykernel_4828\\1026231693.py:6: DeprecationWarning: executable_path has been deprecated, please pass in a Service object\n",
      "  driver = webdriver.Chrome(path)\n"
     ]
    },
    {
     "ename": "NoSuchElementException",
     "evalue": "Message: no such element: Unable to locate element: {\"method\":\"xpath\",\"selector\":\"//div[@class=\"ct-section-inner-wrap\"]/h1\"}\n  (Session info: chrome=104.0.5112.79)\nStacktrace:\nBacktrace:\n\tOrdinal0 [0x003878B3+2193587]\n\tOrdinal0 [0x00320681+1771137]\n\tOrdinal0 [0x002341A8+803240]\n\tOrdinal0 [0x002624A0+992416]\n\tOrdinal0 [0x0026273B+993083]\n\tOrdinal0 [0x0028F7C2+1177538]\n\tOrdinal0 [0x0027D7F4+1103860]\n\tOrdinal0 [0x0028DAE2+1170146]\n\tOrdinal0 [0x0027D5C6+1103302]\n\tOrdinal0 [0x002577E0+948192]\n\tOrdinal0 [0x002586E6+952038]\n\tGetHandleVerifier [0x00630CB2+2738370]\n\tGetHandleVerifier [0x006221B8+2678216]\n\tGetHandleVerifier [0x004117AA+512954]\n\tGetHandleVerifier [0x00410856+509030]\n\tOrdinal0 [0x0032743B+1799227]\n\tOrdinal0 [0x0032BB68+1817448]\n\tOrdinal0 [0x0032BC55+1817685]\n\tOrdinal0 [0x00335230+1856048]\n\tBaseThreadInitThunk [0x776BFA29+25]\n\tRtlGetAppContainerNamedObjectPath [0x779A7A9E+286]\n\tRtlGetAppContainerNamedObjectPath [0x779A7A6E+238]\n",
     "output_type": "error",
     "traceback": [
      "\u001b[1;31m---------------------------------------------------------------------------\u001b[0m",
      "\u001b[1;31mNoSuchElementException\u001b[0m                    Traceback (most recent call last)",
      "\u001b[1;32mc:\\Users\\mpssa\\Documents\\Data Portfolio\\Alternative Protein companies\\Scrape.ipynb Célula: 3\u001b[0m in \u001b[0;36m<cell line: 13>\u001b[1;34m()\u001b[0m\n\u001b[0;32m     <a href='vscode-notebook-cell:/c%3A/Users/mpssa/Documents/Data%20Portfolio/Alternative%20Protein%20companies/Scrape.ipynb#ch0000011?line=13'>14</a>\u001b[0m driver\u001b[39m.\u001b[39mget(company)\n\u001b[0;32m     <a href='vscode-notebook-cell:/c%3A/Users/mpssa/Documents/Data%20Portfolio/Alternative%20Protein%20companies/Scrape.ipynb#ch0000011?line=14'>15</a>\u001b[0m \u001b[39m#sleep(1)\u001b[39;00m\n\u001b[1;32m---> <a href='vscode-notebook-cell:/c%3A/Users/mpssa/Documents/Data%20Portfolio/Alternative%20Protein%20companies/Scrape.ipynb#ch0000011?line=15'>16</a>\u001b[0m name \u001b[39m=\u001b[39m driver\u001b[39m.\u001b[39;49mfind_element(\u001b[39m'\u001b[39;49m\u001b[39mxpath\u001b[39;49m\u001b[39m'\u001b[39;49m, \u001b[39m'\u001b[39;49m\u001b[39m//div[@class=\u001b[39;49m\u001b[39m\"\u001b[39;49m\u001b[39mct-section-inner-wrap\u001b[39;49m\u001b[39m\"\u001b[39;49m\u001b[39m]/h1\u001b[39;49m\u001b[39m'\u001b[39;49m)\u001b[39m.\u001b[39mtext\n\u001b[0;32m     <a href='vscode-notebook-cell:/c%3A/Users/mpssa/Documents/Data%20Portfolio/Alternative%20Protein%20companies/Scrape.ipynb#ch0000011?line=16'>17</a>\u001b[0m summary \u001b[39m=\u001b[39m driver\u001b[39m.\u001b[39mfind_element(\u001b[39m'\u001b[39m\u001b[39mxpath\u001b[39m\u001b[39m'\u001b[39m, \u001b[39m'\u001b[39m\u001b[39m//div[@class=\u001b[39m\u001b[39m\"\u001b[39m\u001b[39mct-div-block space-bottom-6x\u001b[39m\u001b[39m\"\u001b[39m\u001b[39m]/div/div/span\u001b[39m\u001b[39m'\u001b[39m)\u001b[39m.\u001b[39mtext\n\u001b[0;32m     <a href='vscode-notebook-cell:/c%3A/Users/mpssa/Documents/Data%20Portfolio/Alternative%20Protein%20companies/Scrape.ipynb#ch0000011?line=17'>18</a>\u001b[0m link \u001b[39m=\u001b[39m driver\u001b[39m.\u001b[39mfind_element(\u001b[39m'\u001b[39m\u001b[39mxpath\u001b[39m\u001b[39m'\u001b[39m, \u001b[39m'\u001b[39m\u001b[39m//div[@class=\u001b[39m\u001b[39m\"\u001b[39m\u001b[39mct-div-block small-text\u001b[39m\u001b[39m\"\u001b[39m\u001b[39m]/a\u001b[39m\u001b[39m'\u001b[39m)\u001b[39m.\u001b[39mtext\n",
      "File \u001b[1;32mc:\\Users\\mpssa\\Documents\\Data Portfolio\\Alternative Protein companies\\.env\\lib\\site-packages\\selenium\\webdriver\\remote\\webdriver.py:857\u001b[0m, in \u001b[0;36mWebDriver.find_element\u001b[1;34m(self, by, value)\u001b[0m\n\u001b[0;32m    854\u001b[0m     by \u001b[39m=\u001b[39m By\u001b[39m.\u001b[39mCSS_SELECTOR\n\u001b[0;32m    855\u001b[0m     value \u001b[39m=\u001b[39m \u001b[39m'\u001b[39m\u001b[39m[name=\u001b[39m\u001b[39m\"\u001b[39m\u001b[39m%s\u001b[39;00m\u001b[39m\"\u001b[39m\u001b[39m]\u001b[39m\u001b[39m'\u001b[39m \u001b[39m%\u001b[39m value\n\u001b[1;32m--> 857\u001b[0m \u001b[39mreturn\u001b[39;00m \u001b[39mself\u001b[39;49m\u001b[39m.\u001b[39;49mexecute(Command\u001b[39m.\u001b[39;49mFIND_ELEMENT, {\n\u001b[0;32m    858\u001b[0m     \u001b[39m'\u001b[39;49m\u001b[39musing\u001b[39;49m\u001b[39m'\u001b[39;49m: by,\n\u001b[0;32m    859\u001b[0m     \u001b[39m'\u001b[39;49m\u001b[39mvalue\u001b[39;49m\u001b[39m'\u001b[39;49m: value})[\u001b[39m'\u001b[39m\u001b[39mvalue\u001b[39m\u001b[39m'\u001b[39m]\n",
      "File \u001b[1;32mc:\\Users\\mpssa\\Documents\\Data Portfolio\\Alternative Protein companies\\.env\\lib\\site-packages\\selenium\\webdriver\\remote\\webdriver.py:435\u001b[0m, in \u001b[0;36mWebDriver.execute\u001b[1;34m(self, driver_command, params)\u001b[0m\n\u001b[0;32m    433\u001b[0m response \u001b[39m=\u001b[39m \u001b[39mself\u001b[39m\u001b[39m.\u001b[39mcommand_executor\u001b[39m.\u001b[39mexecute(driver_command, params)\n\u001b[0;32m    434\u001b[0m \u001b[39mif\u001b[39;00m response:\n\u001b[1;32m--> 435\u001b[0m     \u001b[39mself\u001b[39;49m\u001b[39m.\u001b[39;49merror_handler\u001b[39m.\u001b[39;49mcheck_response(response)\n\u001b[0;32m    436\u001b[0m     response[\u001b[39m'\u001b[39m\u001b[39mvalue\u001b[39m\u001b[39m'\u001b[39m] \u001b[39m=\u001b[39m \u001b[39mself\u001b[39m\u001b[39m.\u001b[39m_unwrap_value(\n\u001b[0;32m    437\u001b[0m         response\u001b[39m.\u001b[39mget(\u001b[39m'\u001b[39m\u001b[39mvalue\u001b[39m\u001b[39m'\u001b[39m, \u001b[39mNone\u001b[39;00m))\n\u001b[0;32m    438\u001b[0m     \u001b[39mreturn\u001b[39;00m response\n",
      "File \u001b[1;32mc:\\Users\\mpssa\\Documents\\Data Portfolio\\Alternative Protein companies\\.env\\lib\\site-packages\\selenium\\webdriver\\remote\\errorhandler.py:247\u001b[0m, in \u001b[0;36mErrorHandler.check_response\u001b[1;34m(self, response)\u001b[0m\n\u001b[0;32m    245\u001b[0m         alert_text \u001b[39m=\u001b[39m value[\u001b[39m'\u001b[39m\u001b[39malert\u001b[39m\u001b[39m'\u001b[39m]\u001b[39m.\u001b[39mget(\u001b[39m'\u001b[39m\u001b[39mtext\u001b[39m\u001b[39m'\u001b[39m)\n\u001b[0;32m    246\u001b[0m     \u001b[39mraise\u001b[39;00m exception_class(message, screen, stacktrace, alert_text)  \u001b[39m# type: ignore[call-arg]  # mypy is not smart enough here\u001b[39;00m\n\u001b[1;32m--> 247\u001b[0m \u001b[39mraise\u001b[39;00m exception_class(message, screen, stacktrace)\n",
      "\u001b[1;31mNoSuchElementException\u001b[0m: Message: no such element: Unable to locate element: {\"method\":\"xpath\",\"selector\":\"//div[@class=\"ct-section-inner-wrap\"]/h1\"}\n  (Session info: chrome=104.0.5112.79)\nStacktrace:\nBacktrace:\n\tOrdinal0 [0x003878B3+2193587]\n\tOrdinal0 [0x00320681+1771137]\n\tOrdinal0 [0x002341A8+803240]\n\tOrdinal0 [0x002624A0+992416]\n\tOrdinal0 [0x0026273B+993083]\n\tOrdinal0 [0x0028F7C2+1177538]\n\tOrdinal0 [0x0027D7F4+1103860]\n\tOrdinal0 [0x0028DAE2+1170146]\n\tOrdinal0 [0x0027D5C6+1103302]\n\tOrdinal0 [0x002577E0+948192]\n\tOrdinal0 [0x002586E6+952038]\n\tGetHandleVerifier [0x00630CB2+2738370]\n\tGetHandleVerifier [0x006221B8+2678216]\n\tGetHandleVerifier [0x004117AA+512954]\n\tGetHandleVerifier [0x00410856+509030]\n\tOrdinal0 [0x0032743B+1799227]\n\tOrdinal0 [0x0032BB68+1817448]\n\tOrdinal0 [0x0032BC55+1817685]\n\tOrdinal0 [0x00335230+1856048]\n\tBaseThreadInitThunk [0x776BFA29+25]\n\tRtlGetAppContainerNamedObjectPath [0x779A7A9E+286]\n\tRtlGetAppContainerNamedObjectPath [0x779A7A6E+238]\n"
     ]
    }
   ],
   "source": [
    "# With changes\n",
    "# for page 1:\n",
    "\n",
    "website = 'https://proteindirectory.com/alt-protein-database/'\n",
    "path = '/Users/mpssa/Documents/Data Portfolio/Alternative Protein companies/chromedriver.exe'\n",
    "driver = webdriver.Chrome(path)\n",
    "driver.get(website)\n",
    "\n",
    "all_companies = driver.find_elements('xpath', '//a[@class=\"ct-link\"]')\n",
    "company_links = [each_company.get_attribute(\"href\") for each_company in all_companies]\n",
    "\n",
    "companies = []\n",
    "for company in company_links:\n",
    "    try:\n",
    "        driver.get(company)\n",
    "        #sleep(1)\n",
    "        name = driver.find_element('xpath', '//div[@class=\"ct-section-inner-wrap\"]/h1').text\n",
    "        summary = driver.find_element('xpath', '//div[@class=\"ct-div-block space-bottom-6x\"]/div/div/span').text\n",
    "        link = driver.find_element('xpath', '//div[@class=\"ct-div-block small-text\"]/a').text\n",
    "        information = {'name': name,\n",
    "                    'summary': summary,\n",
    "                    'link': link}\n",
    "        total = len(driver.find_elements('xpath', '//div[contains(@class, \"ct-text-block text-muted category-label\")]'))\n",
    "        before_website = True\n",
    "        for each in range(1, total):\n",
    "            if before_website:\n",
    "                key = driver.find_element('xpath', f'//div[@class=\"ct-text-block text-muted category-label\"][{each}]').text\n",
    "                value = driver.find_element('xpath', f'//div[contains(@class, \"ct-text-block text-align-right\")][{each}]').text\n",
    "                if key == 'Website':\n",
    "                    \n",
    "                    key = driver.find_element('xpath', f'//div[@class=\"ct-text-block text-muted category-label\"][{each+1}]').text\n",
    "                    before_website=False\n",
    "                information[key] = value\n",
    "            else:\n",
    "                key = driver.find_element('xpath', f'//div[@class=\"ct-text-block text-muted category-label\"][{each+1}]').text\n",
    "                value = driver.find_element('xpath', f'//div[contains(@class, \"ct-text-block text-align-right\")][{each}]').text\n",
    "            if key == 'Website':\n",
    "                before_website=False\n",
    "        companies.append(information)\n",
    "    except:\n",
    "        print('Error or end of page')\n",
    "# Improve by finding dinamically the range and getting all span\n",
    "# Create dictionaty: \n",
    "\"\"\"\n",
    "information = {'name': name,\n",
    "                'summary': summary,\n",
    "                'link': link}\n",
    "total = len(driver.find_elements('xpath', '//div[contains(@class, \"ct-text-block text-muted category-label\")]'))\n",
    "for i in total:\n",
    "    key = driver.find_element('xpath', f'//div[@class=\"ct-text-block text-muted category-label\"]/div[{i}]/span').text\n",
    "    value = driver.find_element('xpath', f'//div[contains(@class, \"ct-text-block text-align-right\")][{i}]').text\n",
    "    if key != 'Website':\n",
    "        information.append(info)\n",
    "\n",
    "\n",
    "\n",
    "\n",
    "    for i in [2, 4, 6, 9, 11, 13, 15]:\n",
    "        try:\n",
    "            info = driver.find_element('xpath', f'//div[@class=\"ct-div-block small-text\"]/div[{i}]/span').text\n",
    "        except:\n",
    "            info = ''\n",
    "        information.append(info)\n",
    "    companies.append(information)\n",
    "\"\"\"\n"
   ]
  },
  {
   "cell_type": "code",
   "execution_count": null,
   "metadata": {},
   "outputs": [],
   "source": [
    "# for other pages:\n",
    "for number in range(2, 95): \n",
    "    website = f'https://proteindirectory.com/alt-protein-database/?_load_more={number}'\n",
    "    path = '/Users/mpssa/Documents/Data Portfolio/Alternative Protein companies/chromedriver.exe'\n",
    "    driver = webdriver.Chrome(path)\n",
    "    driver.get(website)\n",
    "\n",
    "    all_companies = driver.find_elements('xpath', '//a[@class=\"ct-link\"]')\n",
    "company_links = [each_company.get_attribute(\"href\") for each_company in all_companies]\n",
    "\n",
    "companies = []\n",
    "for company in company_links:\n",
    "    try:\n",
    "        driver.get(company)\n",
    "        #sleep(1)\n",
    "        name = driver.find_element('xpath', '//div[@class=\"ct-section-inner-wrap\"]/h1').text\n",
    "        summary = driver.find_element('xpath', '//div[@class=\"ct-div-block space-bottom-6x\"]/div/div/span').text\n",
    "        link = driver.find_element('xpath', '//div[@class=\"ct-div-block small-text\"]/a').text\n",
    "        information = {'name': name,\n",
    "                    'summary': summary,\n",
    "                    'link': link}\n",
    "        total = len(driver.find_elements('xpath', '//div[contains(@class, \"ct-text-block text-muted category-label\")]'))\n",
    "        before_website = True\n",
    "        for each in range(1, total):\n",
    "            if before_website:\n",
    "                key = driver.find_element('xpath', f'//div[@class=\"ct-text-block text-muted category-label\"][{each}]').text\n",
    "                value = driver.find_element('xpath', f'//div[contains(@class, \"ct-text-block text-align-right\")][{each}]').text\n",
    "                if key == 'Website':\n",
    "                    \n",
    "                    key = driver.find_element('xpath', f'//div[@class=\"ct-text-block text-muted category-label\"][{each+1}]').text\n",
    "                    before_website=False\n",
    "                information[key] = value\n",
    "            else:\n",
    "                key = driver.find_element('xpath', f'//div[@class=\"ct-text-block text-muted category-label\"][{each+1}]').text\n",
    "                value = driver.find_element('xpath', f'//div[contains(@class, \"ct-text-block text-align-right\")][{each}]').text\n",
    "            if key == 'Website':\n",
    "                before_website=False\n",
    "        companies.append(information)\n",
    "    except:\n",
    "        print('Error or end of page')"
   ]
  },
  {
   "cell_type": "code",
   "execution_count": 20,
   "metadata": {},
   "outputs": [
    {
     "ename": "NoSuchElementException",
     "evalue": "Message: no such element: Unable to locate element: {\"method\":\"xpath\",\"selector\":\"//div[@class=\"ct-div-block small-text\"]/div[i]/span\"}\n  (Session info: chrome=104.0.5112.79)\nStacktrace:\nBacktrace:\n\tOrdinal0 [0x003878B3+2193587]\n\tOrdinal0 [0x00320681+1771137]\n\tOrdinal0 [0x002341A8+803240]\n\tOrdinal0 [0x002624A0+992416]\n\tOrdinal0 [0x0026273B+993083]\n\tOrdinal0 [0x0028F7C2+1177538]\n\tOrdinal0 [0x0027D7F4+1103860]\n\tOrdinal0 [0x0028DAE2+1170146]\n\tOrdinal0 [0x0027D5C6+1103302]\n\tOrdinal0 [0x002577E0+948192]\n\tOrdinal0 [0x002586E6+952038]\n\tGetHandleVerifier [0x00630CB2+2738370]\n\tGetHandleVerifier [0x006221B8+2678216]\n\tGetHandleVerifier [0x004117AA+512954]\n\tGetHandleVerifier [0x00410856+509030]\n\tOrdinal0 [0x0032743B+1799227]\n\tOrdinal0 [0x0032BB68+1817448]\n\tOrdinal0 [0x0032BC55+1817685]\n\tOrdinal0 [0x00335230+1856048]\n\tBaseThreadInitThunk [0x776BFA29+25]\n\tRtlGetAppContainerNamedObjectPath [0x779A7A9E+286]\n\tRtlGetAppContainerNamedObjectPath [0x779A7A6E+238]\n",
     "output_type": "error",
     "traceback": [
      "\u001b[1;31m---------------------------------------------------------------------------\u001b[0m",
      "\u001b[1;31mNoSuchElementException\u001b[0m                    Traceback (most recent call last)",
      "\u001b[1;32mc:\\Users\\mpssa\\Documents\\Data Portfolio\\Alternative Protein companies\\Scrape.ipynb Célula: 3\u001b[0m in \u001b[0;36m<cell line: 6>\u001b[1;34m()\u001b[0m\n\u001b[0;32m      <a href='vscode-notebook-cell:/c%3A/Users/mpssa/Documents/Data%20Portfolio/Alternative%20Protein%20companies/Scrape.ipynb#ch0000006?line=3'>4</a>\u001b[0m information \u001b[39m=\u001b[39m [name, summary, link]\n\u001b[0;32m      <a href='vscode-notebook-cell:/c%3A/Users/mpssa/Documents/Data%20Portfolio/Alternative%20Protein%20companies/Scrape.ipynb#ch0000006?line=5'>6</a>\u001b[0m \u001b[39mfor\u001b[39;00m i \u001b[39min\u001b[39;00m [\u001b[39m2\u001b[39m, \u001b[39m4\u001b[39m, \u001b[39m6\u001b[39m, \u001b[39m9\u001b[39m, \u001b[39m11\u001b[39m, \u001b[39m13\u001b[39m, \u001b[39m15\u001b[39m]:\n\u001b[1;32m----> <a href='vscode-notebook-cell:/c%3A/Users/mpssa/Documents/Data%20Portfolio/Alternative%20Protein%20companies/Scrape.ipynb#ch0000006?line=6'>7</a>\u001b[0m     info \u001b[39m=\u001b[39m driver\u001b[39m.\u001b[39;49mfind_element(\u001b[39m'\u001b[39;49m\u001b[39mxpath\u001b[39;49m\u001b[39m'\u001b[39;49m, \u001b[39m'\u001b[39;49m\u001b[39m//div[@class=\u001b[39;49m\u001b[39m\"\u001b[39;49m\u001b[39mct-div-block small-text\u001b[39;49m\u001b[39m\"\u001b[39;49m\u001b[39m]/div[i]/span\u001b[39;49m\u001b[39m'\u001b[39;49m)\u001b[39m.\u001b[39mtext\n\u001b[0;32m      <a href='vscode-notebook-cell:/c%3A/Users/mpssa/Documents/Data%20Portfolio/Alternative%20Protein%20companies/Scrape.ipynb#ch0000006?line=7'>8</a>\u001b[0m     information\u001b[39m.\u001b[39mappend(info)\n",
      "File \u001b[1;32mc:\\Users\\mpssa\\Documents\\Data Portfolio\\Alternative Protein companies\\.env\\lib\\site-packages\\selenium\\webdriver\\remote\\webdriver.py:857\u001b[0m, in \u001b[0;36mWebDriver.find_element\u001b[1;34m(self, by, value)\u001b[0m\n\u001b[0;32m    854\u001b[0m     by \u001b[39m=\u001b[39m By\u001b[39m.\u001b[39mCSS_SELECTOR\n\u001b[0;32m    855\u001b[0m     value \u001b[39m=\u001b[39m \u001b[39m'\u001b[39m\u001b[39m[name=\u001b[39m\u001b[39m\"\u001b[39m\u001b[39m%s\u001b[39;00m\u001b[39m\"\u001b[39m\u001b[39m]\u001b[39m\u001b[39m'\u001b[39m \u001b[39m%\u001b[39m value\n\u001b[1;32m--> 857\u001b[0m \u001b[39mreturn\u001b[39;00m \u001b[39mself\u001b[39;49m\u001b[39m.\u001b[39;49mexecute(Command\u001b[39m.\u001b[39;49mFIND_ELEMENT, {\n\u001b[0;32m    858\u001b[0m     \u001b[39m'\u001b[39;49m\u001b[39musing\u001b[39;49m\u001b[39m'\u001b[39;49m: by,\n\u001b[0;32m    859\u001b[0m     \u001b[39m'\u001b[39;49m\u001b[39mvalue\u001b[39;49m\u001b[39m'\u001b[39;49m: value})[\u001b[39m'\u001b[39m\u001b[39mvalue\u001b[39m\u001b[39m'\u001b[39m]\n",
      "File \u001b[1;32mc:\\Users\\mpssa\\Documents\\Data Portfolio\\Alternative Protein companies\\.env\\lib\\site-packages\\selenium\\webdriver\\remote\\webdriver.py:435\u001b[0m, in \u001b[0;36mWebDriver.execute\u001b[1;34m(self, driver_command, params)\u001b[0m\n\u001b[0;32m    433\u001b[0m response \u001b[39m=\u001b[39m \u001b[39mself\u001b[39m\u001b[39m.\u001b[39mcommand_executor\u001b[39m.\u001b[39mexecute(driver_command, params)\n\u001b[0;32m    434\u001b[0m \u001b[39mif\u001b[39;00m response:\n\u001b[1;32m--> 435\u001b[0m     \u001b[39mself\u001b[39;49m\u001b[39m.\u001b[39;49merror_handler\u001b[39m.\u001b[39;49mcheck_response(response)\n\u001b[0;32m    436\u001b[0m     response[\u001b[39m'\u001b[39m\u001b[39mvalue\u001b[39m\u001b[39m'\u001b[39m] \u001b[39m=\u001b[39m \u001b[39mself\u001b[39m\u001b[39m.\u001b[39m_unwrap_value(\n\u001b[0;32m    437\u001b[0m         response\u001b[39m.\u001b[39mget(\u001b[39m'\u001b[39m\u001b[39mvalue\u001b[39m\u001b[39m'\u001b[39m, \u001b[39mNone\u001b[39;00m))\n\u001b[0;32m    438\u001b[0m     \u001b[39mreturn\u001b[39;00m response\n",
      "File \u001b[1;32mc:\\Users\\mpssa\\Documents\\Data Portfolio\\Alternative Protein companies\\.env\\lib\\site-packages\\selenium\\webdriver\\remote\\errorhandler.py:247\u001b[0m, in \u001b[0;36mErrorHandler.check_response\u001b[1;34m(self, response)\u001b[0m\n\u001b[0;32m    245\u001b[0m         alert_text \u001b[39m=\u001b[39m value[\u001b[39m'\u001b[39m\u001b[39malert\u001b[39m\u001b[39m'\u001b[39m]\u001b[39m.\u001b[39mget(\u001b[39m'\u001b[39m\u001b[39mtext\u001b[39m\u001b[39m'\u001b[39m)\n\u001b[0;32m    246\u001b[0m     \u001b[39mraise\u001b[39;00m exception_class(message, screen, stacktrace, alert_text)  \u001b[39m# type: ignore[call-arg]  # mypy is not smart enough here\u001b[39;00m\n\u001b[1;32m--> 247\u001b[0m \u001b[39mraise\u001b[39;00m exception_class(message, screen, stacktrace)\n",
      "\u001b[1;31mNoSuchElementException\u001b[0m: Message: no such element: Unable to locate element: {\"method\":\"xpath\",\"selector\":\"//div[@class=\"ct-div-block small-text\"]/div[i]/span\"}\n  (Session info: chrome=104.0.5112.79)\nStacktrace:\nBacktrace:\n\tOrdinal0 [0x003878B3+2193587]\n\tOrdinal0 [0x00320681+1771137]\n\tOrdinal0 [0x002341A8+803240]\n\tOrdinal0 [0x002624A0+992416]\n\tOrdinal0 [0x0026273B+993083]\n\tOrdinal0 [0x0028F7C2+1177538]\n\tOrdinal0 [0x0027D7F4+1103860]\n\tOrdinal0 [0x0028DAE2+1170146]\n\tOrdinal0 [0x0027D5C6+1103302]\n\tOrdinal0 [0x002577E0+948192]\n\tOrdinal0 [0x002586E6+952038]\n\tGetHandleVerifier [0x00630CB2+2738370]\n\tGetHandleVerifier [0x006221B8+2678216]\n\tGetHandleVerifier [0x004117AA+512954]\n\tGetHandleVerifier [0x00410856+509030]\n\tOrdinal0 [0x0032743B+1799227]\n\tOrdinal0 [0x0032BB68+1817448]\n\tOrdinal0 [0x0032BC55+1817685]\n\tOrdinal0 [0x00335230+1856048]\n\tBaseThreadInitThunk [0x776BFA29+25]\n\tRtlGetAppContainerNamedObjectPath [0x779A7A9E+286]\n\tRtlGetAppContainerNamedObjectPath [0x779A7A6E+238]\n"
     ]
    }
   ],
   "source": [
    "name = driver.find_element('xpath', '//div[@class=\"ct-section-inner-wrap\"]/h1').text\n",
    "summary = driver.find_element('xpath', '//div[@class=\"ct-div-block space-bottom-6x\"]/div/div/span').text\n",
    "link = driver.find_element('xpath', '//div[@class=\"ct-div-block small-text\"]/a').text\n",
    "information = [name, summary, link]\n",
    "\n",
    "for i in [2, 4, 6, 9, 11, 13, 15]:\n",
    "    info = driver.find_element('xpath', '//div[@class=\"ct-div-block small-text\"]/div[i]/span').text\n",
    "    information.append(info)"
   ]
  },
  {
   "cell_type": "code",
   "execution_count": 39,
   "metadata": {},
   "outputs": [
    {
     "data": {
      "text/plain": [
       "['Creations Foods',\n",
       " 'Agile curators of foods & brands with sustenance',\n",
       " 'creationsfoods.com',\n",
       " 'Food and beverages',\n",
       " 'United States',\n",
       " '2019',\n",
       " 'End-consumer brands & products',\n",
       " 'Plant-based',\n",
       " 'Ice-cream and desserts']"
      ]
     },
     "execution_count": 39,
     "metadata": {},
     "output_type": "execute_result"
    }
   ],
   "source": [
    "information"
   ]
  },
  {
   "cell_type": "code",
   "execution_count": 54,
   "metadata": {},
   "outputs": [
    {
     "data": {
      "text/plain": [
       "[{'name': 'New Barn Organics',\n",
       "  'summary': \"Regenerative organic farming san save the world – that's why we say that Love is Food.™ Always dairy-free, and always delicious.\",\n",
       "  'link': 'newbarnorganics.com',\n",
       "  'Primary focus': 'Food and beverages',\n",
       "  'Location': 'United States',\n",
       "  'Founded': '2015',\n",
       "  'Business model': 'End-consumer brands & products'},\n",
       " {'name': 'Pop & Bottle',\n",
       "  'summary': 'WHO ARE WE:\\nAt Pop & Bottle, we are redefining your daily latte ritual to be more purposeful, nourishing, and gratifying — a moment of indulgence, an act of self-care.\\nWHY DRINK OUR LATTES:\\n- Our organic, yummy lattes are dairy-free, have ZERO refined sugar, are non GMO, and are created with amazing ingredients like spirulina and collagen. Our drinks are lightly sweeten with dates. We have created, a new way to latte.\\nNO MORE \"DIRTY\" CAFFEINE:\\n- Caffeine is a part of 90% of Americans everyday’s lives. 2 years ago, we created Pop & Bottle to solve the problem of “dirty caffeine”, ie sugar and dairy filled drinks with the unhealthy thickeners and fillers that 99% of plant based beverages contain. We want to make each of these caffeine consumption instances delicious AND better for you. With the use of heart healthy almonds, nutrient rich dates, and the best in class superfoods, we have turned that junky daily latte into a high performance beverage.\\nWHERE TO BUY US:\\n- We’re in thousands of stores nationwide, including Whole Foods, Safeway, and Target - find us in the refrigerated grab & go drink section! We also sell through our own website at popandbottle.com.\\nJOIN OUR TRIBE:\\n- Our Instagram is @popandbottle - we\\'d love to hear your thoughts and have you be a part of our growing wellness community! Join us in poppin\\' bottles to lattes that are good and good for you!',\n",
       "  'link': 'popandbottle.com',\n",
       "  'Primary focus': 'Food and beverages',\n",
       "  'Location': 'United States',\n",
       "  'Founded': '2015',\n",
       "  'Business model': 'End-consumer brands & products'},\n",
       " {'name': 'Creations Foods',\n",
       "  'summary': 'Agile curators of foods & brands with sustenance',\n",
       "  'link': 'creationsfoods.com',\n",
       "  'Primary focus': 'Food and beverages',\n",
       "  'Location': 'United States',\n",
       "  'Founded': '2019',\n",
       "  'Business model': 'End-consumer brands & products'},\n",
       " {'name': 'Friedas',\n",
       "  'summary': 'Frieda’s Branded Produce has been inspiring colorful, healthy and delicious eating for families, and food lovers everywhere since 1962. We market and distribute more than 100 different varieties of fruits and vegetables to supermarkets, foodservice, and wholesalers across North America.\\nFounded by produce industry trailblazer Dr. Frieda Rapoport Caplan, subject of the 2015 documentary “Fear No Fruit,” we have introduced more than 200 unique fruits and vegetables to the U.S. marketplace from kiwifruit to dragon fruit and from Stokes Purple® sweet potatoes to habanero peppers.\\nThe family company is owned and operated by Frieda’s daughters, Karen Caplan and Jackie Caplan Wiggins, in Orange County, California. Find Frieda’s on Facebook, @FriedasProduce, and Friedas.com.\\nInspire. Taste. Love.',\n",
       "  'link': 'friedas.com',\n",
       "  'Primary focus': 'Food and beverages',\n",
       "  'Location': 'United States',\n",
       "  'Founded': '1962',\n",
       "  'Business model': 'End-consumer brands & products'},\n",
       " {'name': 'Plantstrong',\n",
       "  'summary': 'We envision a world that universally understands,\\npromotes and prescribes plants as the solution\\nto eliminating chronic disease and enhancing performance.',\n",
       "  'link': 'plantstrongfoods.com',\n",
       "  'Primary focus': 'Food and beverages',\n",
       "  'Location': 'United States',\n",
       "  'Founded': '2007',\n",
       "  'Business model': 'End-consumer brands & products'},\n",
       " {'name': 'PhycoSystems',\n",
       "  'summary': 'PhycoSystems is a research project which targets to cultivate algae in an industrial scale. We develop a photobioreactor as a process innovation being able to cultivate especially a variety of microalgae strains with artificial light. Advantages of the bioreactor are the independency from arable land and weather, so that microalgae can be cultivated everywhere, where power is available. Our vision is to achieve minimum production costs at a high quality of microalgae.',\n",
       "  'link': 'phycosystems.de',\n",
       "  'Primary focus': 'Food and beverages',\n",
       "  'Location': 'Germany',\n",
       "  'Founded': '2021',\n",
       "  'Business model': 'Ingredients & inputs'},\n",
       " {'name': 'Oterra',\n",
       "  'summary': 'Oterra is the largest global provider of naturally sourced colors for the food, beverage, dietary supplements and pet food industry. Since our first color launch in 1876, we’ve drawn on the power of nature’s true colors and championed that natural is best. And we’ve done everything in our power to bring the very best of nature to consumers ever since.\\nNo one knows color like nature. And no one knows natural color like us. It’s our passion. It’s why we’re leading the way to a world with more naturally colored food. A world free from artificial ingredients. A world where consumers can enjoy food that’s more authentic, safe and sustainable. Because when it comes to color, we believe nature got it right the first time.\\nSupport from the ground up\\nWe work closely with our growers and suppliers. Our breeding programs ensure they have access to some of the best varieties and ongoing support. And we use sourcing practices tailored to specific growing areas, so everyone gets a fair deal. Our partners know they can count on us – and we can count on them – and of course this means a sustainable supply of great products. Manufacturers depend on us to help them do great things with color.\\nWe step lightly\\nLeaving a light footprint is important to us. We are constantly on the lookout for new ways to improve efficiency, reduce consumption and use renewable energy. And we take care of what we have by reusing by-products from production for other purposes.\\nTogether towards natural\\nWe believe it’s possible to do good business and still do good. Because together, we can make better food and work towards a fully transparent food system that meets the changing needs of consumers. And because natural – of course – is the only way to go.',\n",
       "  'link': 'oterra.com',\n",
       "  'Primary focus': 'Food and beverages',\n",
       "  'Location': 'Denmark',\n",
       "  'Founded': '',\n",
       "  'Business model': 'Ingredients & inputs'},\n",
       " {'name': 'Meta Burger',\n",
       "  'summary': 'Meta Burger is a plant-based, fast-casual restaurant specializing in innovative burgers, sandwiches and desserts. Meta Burger is more than just the newest iteration of the plant-based fast-casual experience, it is a brand new concept that will alter the public’s perception of plant-based restaurants. The concept for Meta Burger is built on three pillars that will guide its inevitable success; craveability, scalability, and profitability.',\n",
       "  'link': 'metaburger.com',\n",
       "  'Primary focus': 'Food and beverages',\n",
       "  'Location': 'United States',\n",
       "  'Founded': '2018',\n",
       "  'Business model': 'End-consumer brands & products'},\n",
       " {'name': 'Sydsel Africa',\n",
       "  'summary': 'Premier food and non-food products and solutions provider of choice.',\n",
       "  'link': 'sydselafrica.com',\n",
       "  'Primary focus': 'Food and beverages',\n",
       "  'Location': 'Kenya',\n",
       "  'Founded': '2015',\n",
       "  'Business model': 'Ingredients & inputs'},\n",
       " {'name': 'Biocatalysts Ltd',\n",
       "  'summary': 'Biocatalysts is a global biotechnology company discovering, developing and manufacturing speciality enzymes at commercial scales for a variety of industries, such as food, flavour & fragrance, pharmaceutical, life sciences, fine chemicals and many more. We are based in Cardiff, UK with a subsidiary (Biocatalysts Inc.) in Chicago, USA.\\nWith over 35 years of experience in the industry, we have the ability to discover and develop customised enzyme solutions to suit our customers’ specific needs. We possess the tools, expertise and capabilities to carry out this enzyme manufacturing process as cost effectively, quickly and simply as possible, without compromising on quality.\\nAmongst our many capabilities is our own metagenomic library, protein synthesiser, bioinformatics and cloning, downstream processing and enzyme stabilisation, to name but a few. In fact we have over 80 different capabilities that we utilise depending on the type of project we are undertaking.\\nWe believe that our commercial approach to enzyme development and production is truly distinguishable due to the enzymes being designed with large scale commercial manufacture in mind. Therefore, we consider various factors such as enzyme stability, regulatory compliance and logistics from the off.\\nBiocatalysts wealth of enzyme knowledge and experience, along with our continuous investment in new technology and capabilities, enables us to continuously exceed our customers’ enzyme expectations.',\n",
       "  'link': 'biocatalysts.com',\n",
       "  'Primary focus': 'Food and beverages',\n",
       "  'Location': 'United Kingdom',\n",
       "  'Founded': '1986',\n",
       "  'Business model': 'Ingredients & inputs'},\n",
       " {'name': 'Kagome',\n",
       "  'summary': \"Ichitaro Kanie, Kagome's founder, first succeeded in cultivating tomatoes in his garden in Japan in 1899. His success led to the formation of Kagome Co., Ltd. now one of the largest producers of tomato products in Japan.\\nIn 1988, Kagome Japan established Kagome Inc. (Kagome) in Los Banos, California. The state-of-the-art production facility was completed in 1990, and we began shipping sauces to restaurant chains across the nation. Today, Kagome is known as one of the premier customized sauce developers and manufacturers for foodservice, servicing customers domestically and as far away as Asia, the Middle East, Latin America, and Australia.\\nTo meet growing demand, Kagome has increased capacity at the Los Banos facility and in 2007 acquired Kagome Foods. This acquisition has optimized distribution in the eastern portion of the U.S, and provided new product and packaging types to our Kagome portfolio.\\nAs international foodservice markets emerge, Kagome has followed strategies to best service those markets. Inner Mongolia Kagome Foods Inc., was established in 2005, in the most desirable tomato growing region in China. Then shortly thereafter, in the European Union, Kagome became a major shareholder in an organization formed by the merger of two major Portuguese tomato processing companies, Italagro and F.I.T. With Kagome Japan's extensive resources across the globe in ingredient sourcing and manufacturing technologies we have successfully extended our international business initiatives, bringing the good taste of Kagome to every corner of the world.\",\n",
       "  'link': 'kagomeusa.com',\n",
       "  'Primary focus': 'Food and beverages',\n",
       "  'Location': 'United States',\n",
       "  'Founded': '1989',\n",
       "  'Business model': 'Contract manufacturing, End-consumer brands & products'},\n",
       " {'name': 'Enantis',\n",
       "  'summary': 'Enantis s.r.o. is a private company founded in 2006 as the first biotechnology spin-off from the Masaryk University in Brno, Czech Republic. Our premises are located at INBIT, biotechnology center operated by JIC and located on Masaryk University’s campus. We closely collaborate with Loschmidt Laboratories and other research institutions.\\nOur expertise is based on vast experience in protein science and state-of-the-art software tools. A combination which enables us to provide powerful and unique protein optimization services to our clients.\\nWe’re also responsible for the production and sale of novel proteins. Our R&D activities are predominantly focused on the family of fibroblast growth factors (FGFs). The goal is to improve the poor stability of FGFs for therapeutic use. Where FGF2 is concerned, we are already in the preclinical testing phase.',\n",
       "  'link': 'enantis.com',\n",
       "  'Primary focus': 'Biomaterials, Food and beverages',\n",
       "  'Location': 'Czech Republic',\n",
       "  'Founded': '2006',\n",
       "  'Business model': 'Ingredients & inputs'},\n",
       " {'name': 'New Protein Global',\n",
       "  'summary': 'New Protein Global believes there are better, cleaner, and more sustainable ways to feed the world’s growing population. We have the ambition to become a global leader in innovative technologies for the large-scale production of high-quality, cost-effective plant-based proteins and ingredients for use in the global food and beverage industries.',\n",
       "  'link': 'newproteinglobal.com',\n",
       "  'Primary focus': 'Food and beverages',\n",
       "  'Location': 'Canada',\n",
       "  'Founded': '',\n",
       "  'Business model': 'Ingredients & inputs'},\n",
       " {'name': 'C-Merak',\n",
       "  'summary': 'The world needs protein. At C-Merak, we are driven by a simple and inspiring mission: to introduce locally grown protein-rich ingredients as fuel for a healthier future.\\nWe are unlocking the potential from one of nature’s most impressive crops – Faba beans. Packed with nutritional value, Faba beans are natural, pure and versatile. They make fabalous ingredients for healthier people. And, Faba fields naturally enrich the farmland where they are grown for a healthier planet.\\nOur approach is simple. We start with our local family of producers who grow the beans. We collect the beans for cleaning, sorting and splitting at our C-Merak Grains terminal. The beans will be transformed into protein, starch, flour and fibre ingredients within our industry-leading dry mill C-Merak Foods fractionation plant.\\nOur Canadian-made Faba ingredients are 100% plant-based, Non-GMO, gluten and allergen free. Our process has no waste, chemicals or additives.\\nWe are part of the plant-protein evolution – and proud of it!',\n",
       "  'link': 'c-merak.ca',\n",
       "  'Primary focus': 'Food and beverages',\n",
       "  'Location': 'Canada',\n",
       "  'Founded': '2018',\n",
       "  'Business model': 'Ingredients & inputs'},\n",
       " {'name': 'GK Foods',\n",
       "  'summary': 'End-to-end product managers helping private label brands reach the market quickly and efficiently.',\n",
       "  'link': 'gkfoods.co',\n",
       "  'Primary focus': 'Food and beverages',\n",
       "  'Location': 'United States',\n",
       "  'Founded': '2020',\n",
       "  'Business model': 'Contract manufacturing'},\n",
       " {'name': 'Greenest',\n",
       "  'summary': 'Greenest wants to bring about a mammoth change in the way Indians consume protein and wants to contribute in building the plant based food space in Asia by creating the next generation of plant based meals to improve the nutrition, taste and environmental footprint of our food.',\n",
       "  'link': 'greenestfoods.com',\n",
       "  'Primary focus': 'Food and beverages',\n",
       "  'Location': 'India',\n",
       "  'Founded': '2017',\n",
       "  'Business model': 'End-consumer brands & products'},\n",
       " {'name': 'Montana Pure Protein',\n",
       "  'summary': \"We believe in our opportunity to serve a hungry world's desire for quality food! Growing strong relationships across the food system from the lab to the consumer delivering value for all our partners in pursuit of their aspirations.\",\n",
       "  'link': 'montanapure.us',\n",
       "  'Primary focus': 'Food and beverages',\n",
       "  'Location': 'United States',\n",
       "  'Founded': '2020',\n",
       "  'Business model': 'Ingredients & inputs'},\n",
       " {'name': 'CP Kelco',\n",
       "  'summary': 'CP Kelco is a nature-based ingredient solutions company with approximately 90 years of experience working with food, beverage, consumer and industrial product manufacturers worldwide. We apply ingredient innovation and problem-solving to develop customized solutions that leverage our regional insights, meet manufacturers’ goals and address consumer needs and preferences.\\nOur key product lines include gellan gum, pectin, xanthan gum, carrageenan, diutan gum, fermentation-derived cellulose, refined locust bean gum, microparticulated whey protein concentrate and our latest innovation, NUTRAVA™ Citrus Fiber.',\n",
       "  'link': 'cpkelco.com',\n",
       "  'Primary focus': 'Food and beverages',\n",
       "  'Location': 'United States',\n",
       "  'Founded': '1929',\n",
       "  'Business model': 'Ingredients & inputs'}]"
      ]
     },
     "execution_count": 54,
     "metadata": {},
     "output_type": "execute_result"
    }
   ],
   "source": [
    "companies"
   ]
  },
  {
   "cell_type": "code",
   "execution_count": null,
   "metadata": {},
   "outputs": [],
   "source": [
    "import pandas as pd\n",
    "companies.to_csv('first_page.csv')"
   ]
  },
  {
   "cell_type": "code",
   "execution_count": null,
   "metadata": {},
   "outputs": [],
   "source": [
    "all_matches = driver.find_element_by_xpath('//a[@class=\"ct-link\"]')\n",
    "all_matches.click()"
   ]
  },
  {
   "cell_type": "code",
   "execution_count": 55,
   "metadata": {},
   "outputs": [
    {
     "name": "stdout",
     "output_type": "stream",
     "text": [
      "Done\n"
     ]
    }
   ],
   "source": [
    "with open(r'first_page.txt', 'w') as fp:\n",
    "    for item in companies:\n",
    "        # write each item on a new line\n",
    "        fp.write(\"%s\\n\" % item)\n",
    "    print('Done')"
   ]
  },
  {
   "cell_type": "code",
   "execution_count": null,
   "metadata": {},
   "outputs": [],
   "source": []
  },
  {
   "cell_type": "code",
   "execution_count": 52,
   "metadata": {},
   "outputs": [],
   "source": [
    "driver.quit()"
   ]
  }
 ],
 "metadata": {
  "kernelspec": {
   "display_name": "Python 3.10.4 ('.env': venv)",
   "language": "python",
   "name": "python3"
  },
  "language_info": {
   "codemirror_mode": {
    "name": "ipython",
    "version": 3
   },
   "file_extension": ".py",
   "mimetype": "text/x-python",
   "name": "python",
   "nbconvert_exporter": "python",
   "pygments_lexer": "ipython3",
   "version": "3.10.4"
  },
  "orig_nbformat": 4,
  "vscode": {
   "interpreter": {
    "hash": "e7bc9dc7ec061897daafe109cf2b08df5791cbe3660374aa46d93ec51147a2c0"
   }
  }
 },
 "nbformat": 4,
 "nbformat_minor": 2
}
